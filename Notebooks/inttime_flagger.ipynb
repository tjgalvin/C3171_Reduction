{
 "cells": [
  {
   "cell_type": "markdown",
   "metadata": {},
   "source": [
    "# Flag integration cycles\n",
    "\n",
    "Flag out intergration cycles that are less then a specified length of time"
   ]
  },
  {
   "cell_type": "code",
   "execution_count": 1,
   "metadata": {},
   "outputs": [],
   "source": [
    "%matplotlib inline\n",
    "import os\n",
    "import pandas as pd\n",
    "from astropy.time import Time\n",
    "import astropy.units as u\n",
    "from pymir import mirstr as m"
   ]
  },
  {
   "cell_type": "code",
   "execution_count": 2,
   "metadata": {},
   "outputs": [],
   "source": [
    "def flag_cycle(s, selection='flagging.txt', delta=5):\n",
    "    \"\"\"`s` is a record from uvdump output\n",
    "    \n",
    "    delta {int} -- the time range to construct, centered on the `time` in s\n",
    "    \"\"\"\n",
    "    t1 = (Time(s['time'], format='jd')-5*u.second).datetime.strftime('%y%b%d:%H:%M:%S')\n",
    "    t2 = (Time(s['time'], format='jd')+5*u.second).datetime.strftime('%y%b%d:%H:%M:%S')\n",
    "    \n",
    "    select = f\"time({t1},{t2})\"\n",
    "    \n",
    "    with open(selection, 'a') as out_file:\n",
    "        print(select, file=out_file)\n",
    "    \n",
    "\n",
    "def flag_inttime(uv, threshold=9, logfile='dump.txt', selection='flagging.txt', delete=False):\n",
    "    uvdump = m(f\"uvdump vis={uv} vars=inttime,ant1,ant2,time,source log={logfile}\").run()\n",
    "    print(uvdump)\n",
    "    \n",
    "    var = pd.read_csv(logfile, names=('inttime','ant1','ant2','time','source'))\n",
    "    var = var[(var['ant1'].values==1)&(var['ant2'].values==2)] # Smaller list of selects\n",
    "    \n",
    "    var[var['inttime']<threshold].apply(flag_cycle, axis=1, selection=selection)\n",
    "    \n",
    "    uvflag = m(f\"uvflag vis={uv} select=@{selection} flagval=flag\").run()\n",
    "    print(uvflag)\n",
    "    \n",
    "    if delete:\n",
    "        os.remove(logfile)\n",
    "        os.remove(selection)        "
   ]
  },
  {
   "cell_type": "code",
   "execution_count": 3,
   "metadata": {},
   "outputs": [
    {
     "name": "stdout",
     "output_type": "stream",
     "text": [
      "uvdump vis=Data/data1_test.uv/ vars=inttime,ant1,ant2,time,source log=dump.txtUvdump: version 1.0 26-May-09\n",
      "Records generated: 152984\n",
      "\n",
      "uvflag vis=Data/data1_test.uv/ select=@flagging.txt flagval=flag\n",
      "uvflag: Revision 1.8, 2014/09/30 14:23:39 UTC\n",
      "\n",
      "\n",
      "Set flags to indicate bad data in visibility file Data/data1_test.uv/\n",
      "All line channels and all wideband channels selected\n",
      "\n",
      "Overview of flagging on visibility file Data/data1_test.uv/\n",
      "Changed flags set to FALSE (data flagged as bad)\n",
      "Total number of records selected: 39440; out of 152984 records\n",
      "Antennas used: 1-6\n",
      "Counts of correlations within selected channels\n",
      "channel   Originally    Currently\n",
      "Good:        65825356.           0.    Changed to bad:    65825356.\n",
      "Bad:         14987204.    80812560.\n",
      "wide      Originally    Currently\n",
      "Good:               0.           0.    Changed to bad:           0.\n",
      "Bad:                0.           0.\n",
      "\n"
     ]
    }
   ],
   "source": [
    "flag_inttime('Data/data1_test.uv/', threshold=9, delete=True)"
   ]
  },
  {
   "cell_type": "code",
   "execution_count": 3,
   "metadata": {},
   "outputs": [],
   "source": []
  }
 ],
 "metadata": {
  "kernelspec": {
   "display_name": "Python 3",
   "language": "python",
   "name": "python3"
  },
  "language_info": {
   "codemirror_mode": {
    "name": "ipython",
    "version": 3
   },
   "file_extension": ".py",
   "mimetype": "text/x-python",
   "name": "python",
   "nbconvert_exporter": "python",
   "pygments_lexer": "ipython3",
   "version": "3.6.5"
  }
 },
 "nbformat": 4,
 "nbformat_minor": 2
}
