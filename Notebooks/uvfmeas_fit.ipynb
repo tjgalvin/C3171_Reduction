{
 "cells": [
  {
   "cell_type": "markdown",
   "metadata": {},
   "source": [
    "# uvfmeas fitting\n",
    "\n",
    "Making sure I can copy the results of uvfmeas\n",
    "\n",
    "Output for 2018-07-01\n",
    "\n",
    "```\n",
    "uvfmeas% vis=f7700/0327-241.7700 \n",
    "uvfmeas% inp\n",
    "  Task:   uvfmeas\n",
    "  vis      = f7700/0327-241.7700\n",
    "  select   =  \n",
    "  line     =  \n",
    "  stokes   = i\n",
    "  hann     =  \n",
    "  offset   =  \n",
    "  order    = 1\n",
    "  options  = log,mfflux\n",
    "  yrange   =  \n",
    "  device   = 1/xs\n",
    "  nxy      =  \n",
    "  log      =  \n",
    "  fitp     =  \n",
    "  feval    = 8.5\n",
    "uvfmeas% go\n",
    "\n",
    "uvfmeas: Revision 1.21, 2014/09/22 01:33:27 UTC\n",
    "\n",
    "uvfmeas: Revision 1.21, 2014/09/22 01:33:27 UTC                         'WX\n",
    "Applying bandpass corrections to f7700/0327-241.7700\n",
    "Applying freq. dependent gain corrections to f7700/0327-241.7700\n",
    "Applying freq. dependent leakage correction to f7700/0327-241.7700\n",
    "Source: 0327-241\n",
    "Stokes I\n",
    "Vector Average Amplitude:   9.933E-01         Phase:  -4.377E-03\n",
    "             Uncertainty:   2.850E-02\n",
    "Scalar Average Amplitude:   9.951E-01   Uncertainty:   2.893E-02\n",
    "Scalar Average Fit Coefficients:\n",
    " log S =   1.141E-01\n",
    "       +  -1.314E-01 x (log f)^ 1\n",
    "MFCAL flux= 1.0276,  6.0,-0.1314\n",
    "Flux density at   8.500 GHz =   0.9817 Jy.\n",
    "Scatter around fit:   2.887E-03\n",
    "Reduced chi squared:   5.169E-09\n",
    "--------------------------------------------------------------------------------\n",
    "```"
   ]
  },
  {
   "cell_type": "code",
   "execution_count": 1,
   "metadata": {},
   "outputs": [],
   "source": [
    "% matplotlib inline\n",
    "import pandas as pd\n",
    "import glob\n",
    "import numpy as np\n",
    "import matplotlib.pyplot as plt"
   ]
  },
  {
   "cell_type": "code",
   "execution_count": 2,
   "metadata": {},
   "outputs": [],
   "source": [
    "from scipy.optimize import curve_fit"
   ]
  },
  {
   "cell_type": "code",
   "execution_count": 3,
   "metadata": {},
   "outputs": [],
   "source": [
    "df7 = pd.read_csv(f'../Data/2018-07-01/Plots/secondary_uvfmeas_7700_log.txt', names=('nu','s_nu','s_model'), delim_whitespace=True)\n",
    "df9 = pd.read_csv(f'../Data/2018-07-01/Plots/secondary_uvfmeas_9500_log.txt', names=('nu','s_nu','s_model'), delim_whitespace=True)\n",
    "\n",
    "nu7, snu7 = np.log10(df7['nu'].values), np.log10(df7['s_nu'].values)\n",
    "nu9, snu9 = np.log10(df9['nu'].values), np.log10(df9['s_nu'].values)"
   ]
  },
  {
   "cell_type": "code",
   "execution_count": 4,
   "metadata": {},
   "outputs": [],
   "source": [
    "def poly(nu, *p):\n",
    "    spec = np.zeros_like(nu)\n",
    "    for index, val in enumerate(p):\n",
    "        spec += val * nu ** index\n",
    "    \n",
    "    return spec"
   ]
  },
  {
   "cell_type": "code",
   "execution_count": 5,
   "metadata": {},
   "outputs": [],
   "source": [
    "ref_nu = np.log10(6.)\n",
    "\n",
    "fit7 = curve_fit(poly, nu7-ref_nu, snu7, (1., -0.7))\n",
    "fit9 = curve_fit(poly, nu9-ref_nu, snu9, (1., -0.7))"
   ]
  },
  {
   "cell_type": "code",
   "execution_count": 6,
   "metadata": {},
   "outputs": [
    {
     "data": {
      "text/plain": [
       "(array([ 0.01177484, -0.13082201]),\n",
       " array([[  1.20629703e-08,  -1.04423848e-07],\n",
       "        [ -1.04423848e-07,   9.81222126e-07]]))"
      ]
     },
     "execution_count": 6,
     "metadata": {},
     "output_type": "execute_result"
    }
   ],
   "source": [
    "fit7\n"
   ]
  },
  {
   "cell_type": "code",
   "execution_count": 7,
   "metadata": {},
   "outputs": [
    {
     "name": "stdout",
     "output_type": "stream",
     "text": [
      "-0.13082201133\n"
     ]
    }
   ],
   "source": [
    "a1=fit7[0][1]\n",
    "print(a1)"
   ]
  },
  {
   "cell_type": "code",
   "execution_count": 8,
   "metadata": {},
   "outputs": [
    {
     "data": {
      "text/plain": [
       "1.0274834672167843"
      ]
     },
     "execution_count": 8,
     "metadata": {},
     "output_type": "execute_result"
    }
   ],
   "source": [
    "10**fit7[0][0]"
   ]
  },
  {
   "cell_type": "code",
   "execution_count": 9,
   "metadata": {},
   "outputs": [
    {
     "data": {
      "text/plain": [
       "(array([ 0.017434  , -0.14619586]),\n",
       " array([[  5.81226588e-08,  -2.87558841e-07],\n",
       "        [ -2.87558841e-07,   1.44462243e-06]]))"
      ]
     },
     "execution_count": 9,
     "metadata": {},
     "output_type": "execute_result"
    }
   ],
   "source": [
    "fit9"
   ]
  },
  {
   "cell_type": "code",
   "execution_count": 10,
   "metadata": {},
   "outputs": [
    {
     "data": {
      "text/plain": [
       "1.0835975166860978"
      ]
     },
     "execution_count": 10,
     "metadata": {},
     "output_type": "execute_result"
    }
   ],
   "source": [
    "100**fit9[0][0]"
   ]
  },
  {
   "cell_type": "code",
   "execution_count": 57,
   "metadata": {},
   "outputs": [
    {
     "name": "stderr",
     "output_type": "stream",
     "text": [
      "/Users/gal16b/miniconda3/lib/python3.6/site-packages/matplotlib/figure.py:459: UserWarning: matplotlib is currently using a non-GUI backend, so cannot show the figure\n",
      "  \"matplotlib is currently using a non-GUI backend, \"\n"
     ]
    },
    {
     "data": {
      "image/png": "[encoded data removed]",
      "text/plain": [
       "<Figure size 432x288 with 1 Axes>"
      ]
     },
     "metadata": {},
     "output_type": "display_data"
    }
   ],
   "source": [
    "fig, ax = plt.subplots(1,1)\n",
    "\n",
    "ax.plot(10.**nu7, 10.**snu7)\n",
    "ax.plot(10.**nu7, 10.**poly(nu7-ref_nu, *fit7[0]))\n",
    "\n",
    "ax.plot(10.**nu9, 10.**snu9)\n",
    "ax.plot(10.**nu9, 10.**poly(nu9-ref_nu, *fit9[0]))\n",
    "\n",
    "fig.show()"
   ]
  },
  {
   "cell_type": "code",
   "execution_count": 58,
   "metadata": {},
   "outputs": [
    {
     "name": "stdout",
     "output_type": "stream",
     "text": [
      "-0.00333359187033\n"
     ]
    }
   ],
   "source": [
    "fact = fit7[0][0] - fit9[0][0]\n",
    "print(fact)"
   ]
  },
  {
   "cell_type": "code",
   "execution_count": 59,
   "metadata": {},
   "outputs": [
    {
     "name": "stderr",
     "output_type": "stream",
     "text": [
      "/Users/gal16b/miniconda3/lib/python3.6/site-packages/matplotlib/figure.py:459: UserWarning: matplotlib is currently using a non-GUI backend, so cannot show the figure\n",
      "  \"matplotlib is currently using a non-GUI backend, \"\n"
     ]
    },
    {
     "data": {
      "image/png": "[encoded data removed]",
      "text/plain": [
       "<Figure size 432x288 with 1 Axes>"
      ]
     },
     "metadata": {},
     "output_type": "display_data"
    }
   ],
   "source": [
    "fig, ax = plt.subplots(1,1)\n",
    "\n",
    "ax.plot(10.**nu7, 10.**(snu7-fact))\n",
    "ax.plot(10.**nu7, 10.**(poly(nu7-ref_nu, *fit7[0])-fact))\n",
    "\n",
    "ax.plot(10.**nu9, 10.**snu9)\n",
    "ax.plot(10.**nu9, 10.**poly(nu9-ref_nu, *fit9[0]))\n",
    "\n",
    "fig.show()"
   ]
  },
  {
   "cell_type": "code",
   "execution_count": 60,
   "metadata": {},
   "outputs": [],
   "source": [
    "def mfcal_flux(fit, ifcal=1):\n",
    "    nu_0 = fit[2]\n",
    "    fact = fit[3]\n",
    "\n",
    "    if ifcal == 1:\n",
    "        flux_str = f\"{10.**(fit[0][0]+fact):.4f},{nu_0:.1f},{fit[0][1]:.4f}\"\n",
    "    else:\n",
    "        flux_str = f\"{10.**fit[1][0]:.4f},{nu_0:.1f},{fit[1][1]:.4f}\"\n",
    "        \n",
    "    return flux_str\n",
    "\n",
    "def pl(nu, *p):\n",
    "    \"\"\"Polynomial model to fit to spectra. To be consistent\n",
    "    with uvfmeas options=log, data should be logged when given\n",
    "    to the fitting method (i.e. curve_fit)\n",
    "    \n",
    "    Arguments:\n",
    "        nu {numpy.ndarray} -- Frequency of the data. Divide data by nu_0 outsid eof method\n",
    "    \n",
    "    Returns:\n",
    "       spec {numpy.ndarray} -- Modelled spectrum\n",
    "    \"\"\"\n",
    "    spec = np.zeros_like(nu)\n",
    "    for index, val in enumerate(p):\n",
    "        spec += val * nu ** index\n",
    "\n",
    "    return spec\n",
    "\n",
    "def model_secondary(plot=False, nu_0=8.5):\n",
    "    \"\"\"Function to scale IF1 onto IF2. \n",
    "\n",
    "    Assumes that it is being called from a `Date` folder with an\n",
    "    initial calibration\n",
    "    \"\"\"\n",
    "\n",
    "    df7 = pd.read_csv(f'../Data/2018-07-01/Plots/secondary_uvfmeas_7700_log.txt', names=('nu','s_nu','s_model'), delim_whitespace=True)\n",
    "    df9 = pd.read_csv(f'../Data/2018-07-01/Plots/secondary_uvfmeas_9500_log.txt', names=('nu','s_nu','s_model'), delim_whitespace=True)\n",
    "    \n",
    "    nu7, snu7 = np.log10(df7['nu'].values/nu_0), np.log10(df7['s_nu'].values)\n",
    "    nu9, snu9 = np.log10(df9['nu'].values/nu_0), np.log10(df9['s_nu'].values)\n",
    "\n",
    "#     nu7, snu7 = np.log(df7['nu'].values/nu_0), np.log(df7['s_nu'].values)\n",
    "#     nu9, snu9 = np.log(df9['nu'].values/nu_0), np.log(df9['s_nu'].values)\n",
    "\n",
    "    \n",
    "    fit7 = curve_fit(pl, nu7, snu7, (1., -0.7))\n",
    "    fit9 = curve_fit(pl, nu9, snu9, (1., -0.7))\n",
    "    \n",
    "#     fact = fit7[0][0] - fit9[0][0]\n",
    "#     fact = 0\n",
    "    nom7 = np.median(pl(nu7[-50:], *fit7[0]))\n",
    "    nom9 = np.median(pl(nu9[:50], *fit9[0]))\n",
    "    fact = nom7 - nom9\n",
    "\n",
    "    print(nom7, nom9)\n",
    "    print(10.**nom7, 10.**nom9)\n",
    "    \n",
    "    if plot:\n",
    "        fig, (ax,ax1) = plt.subplots(2,1, figsize=(10,8))\n",
    "\n",
    "        ax.plot(10**nu7, 10**snu7)\n",
    "        ax.plot(10**nu7, 10**pl(nu7, *fit7[0]))\n",
    "\n",
    "        ax.plot(10**nu9, 10**snu9)\n",
    "        ax.plot(10**nu9, 10**pl(nu9, *fit9[0]))\n",
    "\n",
    "        ax1.plot(10**nu7, 10**(snu7-fact))\n",
    "        ax1.plot(10**nu7, 10**(pl(nu7, *fit7[0])-fact))\n",
    "\n",
    "        ax1.plot(10**nu9, 10**snu9)\n",
    "        ax1.plot(10**nu9, 10**pl(nu9, *fit9[0]))\n",
    "\n",
    "        fig.show()\n",
    "    \n",
    "    return (fit7[0], fit9[0], nu_0, fact)"
   ]
  },
  {
   "cell_type": "code",
   "execution_count": 61,
   "metadata": {},
   "outputs": [
    {
     "name": "stdout",
     "output_type": "stream",
     "text": [
      "-0.00866229415332 -0.00543438582631\n",
      "0.980251929547 0.987564827961\n"
     ]
    },
    {
     "name": "stderr",
     "output_type": "stream",
     "text": [
      "/Users/gal16b/miniconda3/lib/python3.6/site-packages/matplotlib/figure.py:459: UserWarning: matplotlib is currently using a non-GUI backend, so cannot show the figure\n",
      "  \"matplotlib is currently using a non-GUI backend, \"\n"
     ]
    },
    {
     "data": {
      "image/png": "[encoded data removed]",
      "text/plain": [
       "<Figure size 720x576 with 2 Axes>"
      ]
     },
     "metadata": {},
     "output_type": "display_data"
    }
   ],
   "source": [
    "fit = model_secondary(plot=True)"
   ]
  },
  {
   "cell_type": "code",
   "execution_count": 62,
   "metadata": {},
   "outputs": [
    {
     "data": {
      "text/plain": [
       "(array([-0.0080143 , -0.13082201]),\n",
       " array([-0.00468071, -0.14619586]),\n",
       " 8.5,\n",
       " -0.003227908327005531)"
      ]
     },
     "execution_count": 62,
     "metadata": {},
     "output_type": "execute_result"
    }
   ],
   "source": [
    "fit"
   ]
  },
  {
   "cell_type": "code",
   "execution_count": 63,
   "metadata": {},
   "outputs": [
    {
     "data": {
      "text/plain": [
       "'0.9744,8.5,-0.1308'"
      ]
     },
     "execution_count": 63,
     "metadata": {},
     "output_type": "execute_result"
    }
   ],
   "source": [
    "mfcal_flux(fit, ifcal=1)"
   ]
  },
  {
   "cell_type": "code",
   "execution_count": 64,
   "metadata": {},
   "outputs": [
    {
     "data": {
      "text/plain": [
       "'0.9893,8.5,-0.1462'"
      ]
     },
     "execution_count": 64,
     "metadata": {},
     "output_type": "execute_result"
    }
   ],
   "source": [
    "mfcal_flux(fit, ifcal=2)"
   ]
  },
  {
   "cell_type": "code",
   "execution_count": 65,
   "metadata": {},
   "outputs": [
    {
     "data": {
      "text/plain": [
       "0.98098390000000002"
      ]
     },
     "execution_count": 65,
     "metadata": {},
     "output_type": "execute_result"
    }
   ],
   "source": [
    "10.**snu9[0]"
   ]
  },
  {
   "cell_type": "code",
   "execution_count": 66,
   "metadata": {},
   "outputs": [
    {
     "data": {
      "text/plain": [
       "0.98928014520020124"
      ]
     },
     "execution_count": 66,
     "metadata": {},
     "output_type": "execute_result"
    }
   ],
   "source": [
    "10**fit9[0][0]"
   ]
  },
  {
   "cell_type": "code",
   "execution_count": 67,
   "metadata": {},
   "outputs": [
    {
     "data": {
      "text/plain": [
       "0.72255268864176136"
      ]
     },
     "execution_count": 67,
     "metadata": {},
     "output_type": "execute_result"
    }
   ],
   "source": [
    "10.**pl(nu9[0],*fit9[0])"
   ]
  },
  {
   "cell_type": "code",
   "execution_count": 68,
   "metadata": {},
   "outputs": [
    {
     "data": {
      "text/plain": [
       "array([ 8.572,  8.573,  8.574,  8.575,  8.576,  8.577,  8.578,  8.579,\n",
       "        8.58 ,  8.581,  8.582,  8.583,  8.584,  8.585,  8.586,  8.587,\n",
       "        8.588,  8.589,  8.59 ,  8.591,  8.592,  8.593,  8.594,  8.595,\n",
       "        8.597,  8.598,  8.599,  8.6  ,  8.601,  8.602,  8.603,  8.604,\n",
       "        8.605,  8.606,  8.607,  8.608,  8.609,  8.61 ,  8.611,  8.612,\n",
       "        8.613,  8.614,  8.615,  8.616,  8.617,  8.618,  8.619,  8.62 ,\n",
       "        8.621,  8.622])"
      ]
     },
     "execution_count": 68,
     "metadata": {},
     "output_type": "execute_result"
    }
   ],
   "source": [
    "10.**nu7[-50:]"
   ]
  },
  {
   "cell_type": "code",
   "execution_count": 69,
   "metadata": {},
   "outputs": [
    {
     "data": {
      "text/plain": [
       "array([ 8.577,  8.578,  8.579,  8.58 ,  8.581,  8.582,  8.583,  8.584,\n",
       "        8.585,  8.586,  8.587,  8.588,  8.589,  8.59 ,  8.591,  8.592,\n",
       "        8.593,  8.594,  8.595,  8.596,  8.597,  8.598,  8.599,  8.6  ,\n",
       "        8.601,  8.602,  8.603,  8.605,  8.606,  8.607,  8.608,  8.609,\n",
       "        8.61 ,  8.611,  8.612,  8.613,  8.614,  8.615,  8.616,  8.617,\n",
       "        8.618,  8.619,  8.62 ,  8.621,  8.622,  8.623,  8.624,  8.625,\n",
       "        8.626,  8.627])"
      ]
     },
     "execution_count": 69,
     "metadata": {},
     "output_type": "execute_result"
    }
   ],
   "source": [
    "10.**nu9[:50]"
   ]
  },
  {
   "cell_type": "code",
   "execution_count": null,
   "metadata": {},
   "outputs": [],
   "source": [
    "    "
   ]
  },
  {
   "cell_type": "code",
   "execution_count": null,
   "metadata": {},
   "outputs": [],
   "source": []
  }
 ],
 "metadata": {
  "kernelspec": {
   "display_name": "Python 3",
   "language": "python",
   "name": "python3"
  },
  "language_info": {
   "codemirror_mode": {
    "name": "ipython",
    "version": 3
   },
   "file_extension": ".py",
   "mimetype": "text/x-python",
   "name": "python",
   "nbconvert_exporter": "python",
   "pygments_lexer": "ipython3",
   "version": "3.6.5"
  }
 },
 "nbformat": 4,
 "nbformat_minor": 2
}
